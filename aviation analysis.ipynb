{
 "cells": [
  {
   "cell_type": "code",
   "execution_count": 2,
   "metadata": {},
   "outputs": [],
   "source": [
    "from matplotlib import pyplot as plt\n",
    "%matplotlib inline\n",
    "import pandas as pd\n",
    "import numpy as np\n",
    "import csv\n",
    "import seaborn"
   ]
  },
  {
   "cell_type": "markdown",
   "metadata": {},
   "source": [
    "# Aviation Risk Analysis"
   ]
  },
  {
   "cell_type": "markdown",
   "metadata": {},
   "source": [
    "<img src=\"images/airplane-isolated-on-transparent-background-3d-rendering-aircraft-png-2455088391.png\" alt=\"airplane flyting\" style=\"width:300px;height:auto;\">"
   ]
  },
  {
   "cell_type": "markdown",
   "metadata": {},
   "source": [
    "## Overview "
   ]
  },
  {
   "cell_type": "markdown",
   "metadata": {},
   "source": [
    "This is our conclusion. What have we learned?"
   ]
  },
  {
   "cell_type": "markdown",
   "metadata": {},
   "source": [
    "## Business Problem"
   ]
  },
  {
   "cell_type": "markdown",
   "metadata": {},
   "source": [
    "A company is interested in purchasing and operating airplanes for commercial and private enterprises, but they do not know anything about the potential risks of aircraft. Our goal is to determine which aircraft are the lowest risk for the company. We want to provide actionable insights for the head of the new aviation division to decide which aircraft to purchase."
   ]
  },
  {
   "cell_type": "markdown",
   "metadata": {},
   "source": [
    "## Data\n"
   ]
  },
  {
   "cell_type": "markdown",
   "metadata": {},
   "source": [
    "The data is from the National Transportation Safety Board that includes aviation accident data from 1962 to 2023 about civil aviation accidents and selected incidents in the United States and international waters."
   ]
  },
  {
   "cell_type": "markdown",
   "metadata": {},
   "source": [
    "## Methods"
   ]
  },
  {
   "cell_type": "markdown",
   "metadata": {},
   "source": [
    "Overview for risk asocited with various aircraft for out client "
   ]
  },
  {
   "cell_type": "markdown",
   "metadata": {},
   "source": [
    "## Results"
   ]
  },
  {
   "cell_type": "markdown",
   "metadata": {},
   "source": []
  },
  {
   "cell_type": "markdown",
   "metadata": {},
   "source": [
    "## Data Understanding"
   ]
  },
  {
   "cell_type": "code",
   "execution_count": 3,
   "metadata": {},
   "outputs": [],
   "source": [
    "#import and store data\n",
    "df = pd.read_csv('data/AviationData.csv', encoding='mac_roman', low_memory=False)\n",
    "#variables \n",
    "#made this a variable so that we can easily incorporate older data if the client would like\n",
    "filter_year = 2001"
   ]
  },
  {
   "cell_type": "code",
   "execution_count": 4,
   "metadata": {},
   "outputs": [
    {
     "data": {
      "text/plain": [
       "(88889, 31)"
      ]
     },
     "execution_count": 4,
     "metadata": {},
     "output_type": "execute_result"
    }
   ],
   "source": [
    "df.shape"
   ]
  },
  {
   "cell_type": "code",
   "execution_count": 5,
   "metadata": {},
   "outputs": [
    {
     "data": {
      "text/html": [
       "<div>\n",
       "<style scoped>\n",
       "    .dataframe tbody tr th:only-of-type {\n",
       "        vertical-align: middle;\n",
       "    }\n",
       "\n",
       "    .dataframe tbody tr th {\n",
       "        vertical-align: top;\n",
       "    }\n",
       "\n",
       "    .dataframe thead th {\n",
       "        text-align: right;\n",
       "    }\n",
       "</style>\n",
       "<table border=\"1\" class=\"dataframe\">\n",
       "  <thead>\n",
       "    <tr style=\"text-align: right;\">\n",
       "      <th></th>\n",
       "      <th>Event.Id</th>\n",
       "      <th>Investigation.Type</th>\n",
       "      <th>Accident.Number</th>\n",
       "      <th>Event.Date</th>\n",
       "      <th>Location</th>\n",
       "      <th>Country</th>\n",
       "      <th>Latitude</th>\n",
       "      <th>Longitude</th>\n",
       "      <th>Airport.Code</th>\n",
       "      <th>Airport.Name</th>\n",
       "      <th>...</th>\n",
       "      <th>Purpose.of.flight</th>\n",
       "      <th>Air.carrier</th>\n",
       "      <th>Total.Fatal.Injuries</th>\n",
       "      <th>Total.Serious.Injuries</th>\n",
       "      <th>Total.Minor.Injuries</th>\n",
       "      <th>Total.Uninjured</th>\n",
       "      <th>Weather.Condition</th>\n",
       "      <th>Broad.phase.of.flight</th>\n",
       "      <th>Report.Status</th>\n",
       "      <th>Publication.Date</th>\n",
       "    </tr>\n",
       "  </thead>\n",
       "  <tbody>\n",
       "    <tr>\n",
       "      <th>0</th>\n",
       "      <td>20001218X45444</td>\n",
       "      <td>Accident</td>\n",
       "      <td>SEA87LA080</td>\n",
       "      <td>10/24/1948</td>\n",
       "      <td>MOOSE CREEK, ID</td>\n",
       "      <td>United States</td>\n",
       "      <td>NaN</td>\n",
       "      <td>NaN</td>\n",
       "      <td>NaN</td>\n",
       "      <td>NaN</td>\n",
       "      <td>...</td>\n",
       "      <td>Personal</td>\n",
       "      <td>NaN</td>\n",
       "      <td>2.0</td>\n",
       "      <td>0.0</td>\n",
       "      <td>0.0</td>\n",
       "      <td>0.0</td>\n",
       "      <td>UNK</td>\n",
       "      <td>Cruise</td>\n",
       "      <td>Probable Cause</td>\n",
       "      <td>NaN</td>\n",
       "    </tr>\n",
       "    <tr>\n",
       "      <th>1</th>\n",
       "      <td>20001218X45447</td>\n",
       "      <td>Accident</td>\n",
       "      <td>LAX94LA336</td>\n",
       "      <td>7/19/1962</td>\n",
       "      <td>BRIDGEPORT, CA</td>\n",
       "      <td>United States</td>\n",
       "      <td>NaN</td>\n",
       "      <td>NaN</td>\n",
       "      <td>NaN</td>\n",
       "      <td>NaN</td>\n",
       "      <td>...</td>\n",
       "      <td>Personal</td>\n",
       "      <td>NaN</td>\n",
       "      <td>4.0</td>\n",
       "      <td>0.0</td>\n",
       "      <td>0.0</td>\n",
       "      <td>0.0</td>\n",
       "      <td>UNK</td>\n",
       "      <td>Unknown</td>\n",
       "      <td>Probable Cause</td>\n",
       "      <td>19-09-1996</td>\n",
       "    </tr>\n",
       "    <tr>\n",
       "      <th>2</th>\n",
       "      <td>20061025X01555</td>\n",
       "      <td>Accident</td>\n",
       "      <td>NYC07LA005</td>\n",
       "      <td>8/30/1974</td>\n",
       "      <td>Saltville, VA</td>\n",
       "      <td>United States</td>\n",
       "      <td>36.922223</td>\n",
       "      <td>-81.878056</td>\n",
       "      <td>NaN</td>\n",
       "      <td>NaN</td>\n",
       "      <td>...</td>\n",
       "      <td>Personal</td>\n",
       "      <td>NaN</td>\n",
       "      <td>3.0</td>\n",
       "      <td>NaN</td>\n",
       "      <td>NaN</td>\n",
       "      <td>NaN</td>\n",
       "      <td>IMC</td>\n",
       "      <td>Cruise</td>\n",
       "      <td>Probable Cause</td>\n",
       "      <td>26-02-2007</td>\n",
       "    </tr>\n",
       "    <tr>\n",
       "      <th>3</th>\n",
       "      <td>20001218X45448</td>\n",
       "      <td>Accident</td>\n",
       "      <td>LAX96LA321</td>\n",
       "      <td>6/19/1977</td>\n",
       "      <td>EUREKA, CA</td>\n",
       "      <td>United States</td>\n",
       "      <td>NaN</td>\n",
       "      <td>NaN</td>\n",
       "      <td>NaN</td>\n",
       "      <td>NaN</td>\n",
       "      <td>...</td>\n",
       "      <td>Personal</td>\n",
       "      <td>NaN</td>\n",
       "      <td>2.0</td>\n",
       "      <td>0.0</td>\n",
       "      <td>0.0</td>\n",
       "      <td>0.0</td>\n",
       "      <td>IMC</td>\n",
       "      <td>Cruise</td>\n",
       "      <td>Probable Cause</td>\n",
       "      <td>12/9/2000</td>\n",
       "    </tr>\n",
       "    <tr>\n",
       "      <th>4</th>\n",
       "      <td>20041105X01764</td>\n",
       "      <td>Accident</td>\n",
       "      <td>CHI79FA064</td>\n",
       "      <td>8/2/1979</td>\n",
       "      <td>Canton, OH</td>\n",
       "      <td>United States</td>\n",
       "      <td>NaN</td>\n",
       "      <td>NaN</td>\n",
       "      <td>NaN</td>\n",
       "      <td>NaN</td>\n",
       "      <td>...</td>\n",
       "      <td>Personal</td>\n",
       "      <td>NaN</td>\n",
       "      <td>1.0</td>\n",
       "      <td>2.0</td>\n",
       "      <td>NaN</td>\n",
       "      <td>0.0</td>\n",
       "      <td>VMC</td>\n",
       "      <td>Approach</td>\n",
       "      <td>Probable Cause</td>\n",
       "      <td>16-04-1980</td>\n",
       "    </tr>\n",
       "  </tbody>\n",
       "</table>\n",
       "<p>5 rows × 31 columns</p>\n",
       "</div>"
      ],
      "text/plain": [
       "         Event.Id Investigation.Type Accident.Number  Event.Date  \\\n",
       "0  20001218X45444           Accident      SEA87LA080  10/24/1948   \n",
       "1  20001218X45447           Accident      LAX94LA336   7/19/1962   \n",
       "2  20061025X01555           Accident      NYC07LA005   8/30/1974   \n",
       "3  20001218X45448           Accident      LAX96LA321   6/19/1977   \n",
       "4  20041105X01764           Accident      CHI79FA064    8/2/1979   \n",
       "\n",
       "          Location        Country   Latitude   Longitude Airport.Code  \\\n",
       "0  MOOSE CREEK, ID  United States        NaN         NaN          NaN   \n",
       "1   BRIDGEPORT, CA  United States        NaN         NaN          NaN   \n",
       "2    Saltville, VA  United States  36.922223  -81.878056          NaN   \n",
       "3       EUREKA, CA  United States        NaN         NaN          NaN   \n",
       "4       Canton, OH  United States        NaN         NaN          NaN   \n",
       "\n",
       "  Airport.Name  ... Purpose.of.flight Air.carrier Total.Fatal.Injuries  \\\n",
       "0          NaN  ...          Personal         NaN                  2.0   \n",
       "1          NaN  ...          Personal         NaN                  4.0   \n",
       "2          NaN  ...          Personal         NaN                  3.0   \n",
       "3          NaN  ...          Personal         NaN                  2.0   \n",
       "4          NaN  ...          Personal         NaN                  1.0   \n",
       "\n",
       "  Total.Serious.Injuries Total.Minor.Injuries Total.Uninjured  \\\n",
       "0                    0.0                  0.0             0.0   \n",
       "1                    0.0                  0.0             0.0   \n",
       "2                    NaN                  NaN             NaN   \n",
       "3                    0.0                  0.0             0.0   \n",
       "4                    2.0                  NaN             0.0   \n",
       "\n",
       "  Weather.Condition  Broad.phase.of.flight   Report.Status Publication.Date  \n",
       "0               UNK                 Cruise  Probable Cause              NaN  \n",
       "1               UNK                Unknown  Probable Cause       19-09-1996  \n",
       "2               IMC                 Cruise  Probable Cause       26-02-2007  \n",
       "3               IMC                 Cruise  Probable Cause        12/9/2000  \n",
       "4               VMC               Approach  Probable Cause       16-04-1980  \n",
       "\n",
       "[5 rows x 31 columns]"
      ]
     },
     "execution_count": 5,
     "metadata": {},
     "output_type": "execute_result"
    }
   ],
   "source": [
    "df.head()"
   ]
  },
  {
   "cell_type": "code",
   "execution_count": 6,
   "metadata": {},
   "outputs": [
    {
     "name": "stdout",
     "output_type": "stream",
     "text": [
      "<class 'pandas.core.frame.DataFrame'>\n",
      "RangeIndex: 88889 entries, 0 to 88888\n",
      "Data columns (total 31 columns):\n",
      " #   Column                  Non-Null Count  Dtype  \n",
      "---  ------                  --------------  -----  \n",
      " 0   Event.Id                88889 non-null  object \n",
      " 1   Investigation.Type      88889 non-null  object \n",
      " 2   Accident.Number         88889 non-null  object \n",
      " 3   Event.Date              88889 non-null  object \n",
      " 4   Location                88837 non-null  object \n",
      " 5   Country                 88663 non-null  object \n",
      " 6   Latitude                34382 non-null  object \n",
      " 7   Longitude               34373 non-null  object \n",
      " 8   Airport.Code            50249 non-null  object \n",
      " 9   Airport.Name            52790 non-null  object \n",
      " 10  Injury.Severity         87889 non-null  object \n",
      " 11  Aircraft.damage         85695 non-null  object \n",
      " 12  Aircraft.Category       32287 non-null  object \n",
      " 13  Registration.Number     87572 non-null  object \n",
      " 14  Make                    88826 non-null  object \n",
      " 15  Model                   88797 non-null  object \n",
      " 16  Amateur.Built           88787 non-null  object \n",
      " 17  Number.of.Engines       82805 non-null  float64\n",
      " 18  Engine.Type             81812 non-null  object \n",
      " 19  FAR.Description         32023 non-null  object \n",
      " 20  Schedule                12582 non-null  object \n",
      " 21  Purpose.of.flight       82697 non-null  object \n",
      " 22  Air.carrier             16648 non-null  object \n",
      " 23  Total.Fatal.Injuries    77488 non-null  float64\n",
      " 24  Total.Serious.Injuries  76379 non-null  float64\n",
      " 25  Total.Minor.Injuries    76956 non-null  float64\n",
      " 26  Total.Uninjured         82977 non-null  float64\n",
      " 27  Weather.Condition       84397 non-null  object \n",
      " 28  Broad.phase.of.flight   61724 non-null  object \n",
      " 29  Report.Status           82508 non-null  object \n",
      " 30  Publication.Date        75118 non-null  object \n",
      "dtypes: float64(5), object(26)\n",
      "memory usage: 21.0+ MB\n"
     ]
    }
   ],
   "source": [
    "df.info()\n"
   ]
  },
  {
   "cell_type": "markdown",
   "metadata": {},
   "source": [
    "We want some of these datatypes to be numbers.\n",
    "We also want to filter out null and missing data.\n",
    "We will have to decide which information is relevant to us.\n",
    "\n",
    "\n"
   ]
  },
  {
   "cell_type": "markdown",
   "metadata": {},
   "source": [
    "Our first step is to ensure we are only looking at aircraft. "
   ]
  },
  {
   "cell_type": "code",
   "execution_count": 7,
   "metadata": {},
   "outputs": [],
   "source": [
    "df = df.loc[df['Aircraft.Category']=='Airplane']\n"
   ]
  },
  {
   "cell_type": "markdown",
   "metadata": {},
   "source": [
    "Next we are removing all ameteur built aircraft as we our looking to purchase aircraft and this would be an unreasonable option. "
   ]
  },
  {
   "cell_type": "code",
   "execution_count": 8,
   "metadata": {},
   "outputs": [],
   "source": [
    "df = df.loc[df['Amateur.Built']=='No']\n",
    "\n"
   ]
  },
  {
   "cell_type": "code",
   "execution_count": 22,
   "metadata": {
    "scrolled": true
   },
   "outputs": [
    {
     "data": {
      "text/html": [
       "<div>\n",
       "<style scoped>\n",
       "    .dataframe tbody tr th:only-of-type {\n",
       "        vertical-align: middle;\n",
       "    }\n",
       "\n",
       "    .dataframe tbody tr th {\n",
       "        vertical-align: top;\n",
       "    }\n",
       "\n",
       "    .dataframe thead th {\n",
       "        text-align: right;\n",
       "    }\n",
       "</style>\n",
       "<table border=\"1\" class=\"dataframe\">\n",
       "  <thead>\n",
       "    <tr style=\"text-align: right;\">\n",
       "      <th></th>\n",
       "      <th>Number.of.Engines</th>\n",
       "      <th>Total.Fatal.Injuries</th>\n",
       "      <th>Total.Serious.Injuries</th>\n",
       "      <th>Total.Minor.Injuries</th>\n",
       "      <th>Total.Uninjured</th>\n",
       "      <th>Year</th>\n",
       "    </tr>\n",
       "    <tr>\n",
       "      <th>Make</th>\n",
       "      <th></th>\n",
       "      <th></th>\n",
       "      <th></th>\n",
       "      <th></th>\n",
       "      <th></th>\n",
       "      <th></th>\n",
       "    </tr>\n",
       "  </thead>\n",
       "  <tbody>\n",
       "    <tr>\n",
       "      <th>177MF LLC</th>\n",
       "      <td>1.0</td>\n",
       "      <td>0.0</td>\n",
       "      <td>2.0</td>\n",
       "      <td>0.0</td>\n",
       "      <td>0.0</td>\n",
       "      <td>2014</td>\n",
       "    </tr>\n",
       "    <tr>\n",
       "      <th>2021FX3 LLC</th>\n",
       "      <td>1.0</td>\n",
       "      <td>0.0</td>\n",
       "      <td>0.0</td>\n",
       "      <td>0.0</td>\n",
       "      <td>2.0</td>\n",
       "      <td>2022</td>\n",
       "    </tr>\n",
       "    <tr>\n",
       "      <th>3XTRIM</th>\n",
       "      <td>1.0</td>\n",
       "      <td>1.0</td>\n",
       "      <td>0.0</td>\n",
       "      <td>1.0</td>\n",
       "      <td>0.0</td>\n",
       "      <td>2015</td>\n",
       "    </tr>\n",
       "    <tr>\n",
       "      <th>737</th>\n",
       "      <td>0.0</td>\n",
       "      <td>0.0</td>\n",
       "      <td>0.0</td>\n",
       "      <td>0.0</td>\n",
       "      <td>329.0</td>\n",
       "      <td>4044</td>\n",
       "    </tr>\n",
       "    <tr>\n",
       "      <th>777</th>\n",
       "      <td>0.0</td>\n",
       "      <td>0.0</td>\n",
       "      <td>0.0</td>\n",
       "      <td>0.0</td>\n",
       "      <td>0.0</td>\n",
       "      <td>2021</td>\n",
       "    </tr>\n",
       "    <tr>\n",
       "      <th>...</th>\n",
       "      <td>...</td>\n",
       "      <td>...</td>\n",
       "      <td>...</td>\n",
       "      <td>...</td>\n",
       "      <td>...</td>\n",
       "      <td>...</td>\n",
       "    </tr>\n",
       "    <tr>\n",
       "      <th>Zenair</th>\n",
       "      <td>3.0</td>\n",
       "      <td>0.0</td>\n",
       "      <td>0.0</td>\n",
       "      <td>0.0</td>\n",
       "      <td>4.0</td>\n",
       "      <td>6044</td>\n",
       "    </tr>\n",
       "    <tr>\n",
       "      <th>Zlin</th>\n",
       "      <td>1.0</td>\n",
       "      <td>0.0</td>\n",
       "      <td>0.0</td>\n",
       "      <td>0.0</td>\n",
       "      <td>1.0</td>\n",
       "      <td>2018</td>\n",
       "    </tr>\n",
       "    <tr>\n",
       "      <th>Zlin Aviation</th>\n",
       "      <td>1.0</td>\n",
       "      <td>0.0</td>\n",
       "      <td>0.0</td>\n",
       "      <td>0.0</td>\n",
       "      <td>1.0</td>\n",
       "      <td>2020</td>\n",
       "    </tr>\n",
       "    <tr>\n",
       "      <th>Zodiac</th>\n",
       "      <td>0.0</td>\n",
       "      <td>1.0</td>\n",
       "      <td>0.0</td>\n",
       "      <td>1.0</td>\n",
       "      <td>0.0</td>\n",
       "      <td>2018</td>\n",
       "    </tr>\n",
       "    <tr>\n",
       "      <th>de Havilland</th>\n",
       "      <td>11.0</td>\n",
       "      <td>2.0</td>\n",
       "      <td>4.0</td>\n",
       "      <td>1.0</td>\n",
       "      <td>52.0</td>\n",
       "      <td>18072</td>\n",
       "    </tr>\n",
       "  </tbody>\n",
       "</table>\n",
       "<p>1328 rows × 6 columns</p>\n",
       "</div>"
      ],
      "text/plain": [
       "               Number.of.Engines  Total.Fatal.Injuries  \\\n",
       "Make                                                     \n",
       "177MF LLC                    1.0                   0.0   \n",
       "2021FX3 LLC                  1.0                   0.0   \n",
       "3XTRIM                       1.0                   1.0   \n",
       "737                          0.0                   0.0   \n",
       "777                          0.0                   0.0   \n",
       "...                          ...                   ...   \n",
       "Zenair                       3.0                   0.0   \n",
       "Zlin                         1.0                   0.0   \n",
       "Zlin Aviation                1.0                   0.0   \n",
       "Zodiac                       0.0                   1.0   \n",
       "de Havilland                11.0                   2.0   \n",
       "\n",
       "               Total.Serious.Injuries  Total.Minor.Injuries  Total.Uninjured  \\\n",
       "Make                                                                           \n",
       "177MF LLC                         2.0                   0.0              0.0   \n",
       "2021FX3 LLC                       0.0                   0.0              2.0   \n",
       "3XTRIM                            0.0                   1.0              0.0   \n",
       "737                               0.0                   0.0            329.0   \n",
       "777                               0.0                   0.0              0.0   \n",
       "...                               ...                   ...              ...   \n",
       "Zenair                            0.0                   0.0              4.0   \n",
       "Zlin                              0.0                   0.0              1.0   \n",
       "Zlin Aviation                     0.0                   0.0              1.0   \n",
       "Zodiac                            0.0                   1.0              0.0   \n",
       "de Havilland                      4.0                   1.0             52.0   \n",
       "\n",
       "                Year  \n",
       "Make                  \n",
       "177MF LLC       2014  \n",
       "2021FX3 LLC     2022  \n",
       "3XTRIM          2015  \n",
       "737             4044  \n",
       "777             2021  \n",
       "...              ...  \n",
       "Zenair          6044  \n",
       "Zlin            2018  \n",
       "Zlin Aviation   2020  \n",
       "Zodiac          2018  \n",
       "de Havilland   18072  \n",
       "\n",
       "[1328 rows x 6 columns]"
      ]
     },
     "execution_count": 22,
     "metadata": {},
     "output_type": "execute_result"
    }
   ],
   "source": [
    "df.groupby('Make').sum()"
   ]
  },
  {
   "cell_type": "markdown",
   "metadata": {},
   "source": [
    "Our next step is to filter our date ranges. We have decided to make reccomendations in a post 9-11 world and not inlcude accidents pre 2001."
   ]
  },
  {
   "cell_type": "code",
   "execution_count": 10,
   "metadata": {},
   "outputs": [],
   "source": [
    "df['Year'] = df['Event.Date'].str[-4:]\n",
    "df['Year'] = df['Year'].astype(int)\n"
   ]
  },
  {
   "cell_type": "code",
   "execution_count": 11,
   "metadata": {},
   "outputs": [],
   "source": [
    "\n",
    "df = df.loc[df['Year'] > filter_year]\n"
   ]
  },
  {
   "cell_type": "markdown",
   "metadata": {},
   "source": [
    "## Data Cleaning"
   ]
  },
  {
   "cell_type": "markdown",
   "metadata": {},
   "source": [
    "Checking to see how many total fatal injuries were missing"
   ]
  },
  {
   "cell_type": "code",
   "execution_count": 12,
   "metadata": {},
   "outputs": [
    {
     "data": {
      "text/plain": [
       "2537"
      ]
     },
     "execution_count": 12,
     "metadata": {},
     "output_type": "execute_result"
    }
   ],
   "source": [
    "df.isna().sum()\n",
    "df['Total.Fatal.Injuries'].isna().sum()"
   ]
  },
  {
   "cell_type": "code",
   "execution_count": 13,
   "metadata": {},
   "outputs": [
    {
     "data": {
      "text/html": [
       "<div>\n",
       "<style scoped>\n",
       "    .dataframe tbody tr th:only-of-type {\n",
       "        vertical-align: middle;\n",
       "    }\n",
       "\n",
       "    .dataframe tbody tr th {\n",
       "        vertical-align: top;\n",
       "    }\n",
       "\n",
       "    .dataframe thead th {\n",
       "        text-align: right;\n",
       "    }\n",
       "</style>\n",
       "<table border=\"1\" class=\"dataframe\">\n",
       "  <thead>\n",
       "    <tr style=\"text-align: right;\">\n",
       "      <th></th>\n",
       "      <th>Number.of.Engines</th>\n",
       "      <th>Total.Fatal.Injuries</th>\n",
       "      <th>Total.Serious.Injuries</th>\n",
       "      <th>Total.Minor.Injuries</th>\n",
       "      <th>Total.Uninjured</th>\n",
       "      <th>Year</th>\n",
       "    </tr>\n",
       "  </thead>\n",
       "  <tbody>\n",
       "    <tr>\n",
       "      <th>count</th>\n",
       "      <td>18693.000000</td>\n",
       "      <td>18544.000000</td>\n",
       "      <td>18560.000000</td>\n",
       "      <td>18846.000000</td>\n",
       "      <td>20547.000000</td>\n",
       "      <td>21081.000000</td>\n",
       "    </tr>\n",
       "    <tr>\n",
       "      <th>mean</th>\n",
       "      <td>1.175360</td>\n",
       "      <td>0.659513</td>\n",
       "      <td>0.313524</td>\n",
       "      <td>0.207949</td>\n",
       "      <td>7.229912</td>\n",
       "      <td>2013.572696</td>\n",
       "    </tr>\n",
       "    <tr>\n",
       "      <th>std</th>\n",
       "      <td>0.423166</td>\n",
       "      <td>6.135952</td>\n",
       "      <td>2.343600</td>\n",
       "      <td>0.843311</td>\n",
       "      <td>33.761075</td>\n",
       "      <td>5.151531</td>\n",
       "    </tr>\n",
       "    <tr>\n",
       "      <th>min</th>\n",
       "      <td>0.000000</td>\n",
       "      <td>0.000000</td>\n",
       "      <td>0.000000</td>\n",
       "      <td>0.000000</td>\n",
       "      <td>0.000000</td>\n",
       "      <td>2002.000000</td>\n",
       "    </tr>\n",
       "    <tr>\n",
       "      <th>25%</th>\n",
       "      <td>1.000000</td>\n",
       "      <td>0.000000</td>\n",
       "      <td>0.000000</td>\n",
       "      <td>0.000000</td>\n",
       "      <td>0.000000</td>\n",
       "      <td>2009.000000</td>\n",
       "    </tr>\n",
       "    <tr>\n",
       "      <th>50%</th>\n",
       "      <td>1.000000</td>\n",
       "      <td>0.000000</td>\n",
       "      <td>0.000000</td>\n",
       "      <td>0.000000</td>\n",
       "      <td>1.000000</td>\n",
       "      <td>2014.000000</td>\n",
       "    </tr>\n",
       "    <tr>\n",
       "      <th>75%</th>\n",
       "      <td>1.000000</td>\n",
       "      <td>0.000000</td>\n",
       "      <td>0.000000</td>\n",
       "      <td>0.000000</td>\n",
       "      <td>2.000000</td>\n",
       "      <td>2018.000000</td>\n",
       "    </tr>\n",
       "    <tr>\n",
       "      <th>max</th>\n",
       "      <td>8.000000</td>\n",
       "      <td>295.000000</td>\n",
       "      <td>161.000000</td>\n",
       "      <td>50.000000</td>\n",
       "      <td>576.000000</td>\n",
       "      <td>2022.000000</td>\n",
       "    </tr>\n",
       "  </tbody>\n",
       "</table>\n",
       "</div>"
      ],
      "text/plain": [
       "       Number.of.Engines  Total.Fatal.Injuries  Total.Serious.Injuries  \\\n",
       "count       18693.000000          18544.000000            18560.000000   \n",
       "mean            1.175360              0.659513                0.313524   \n",
       "std             0.423166              6.135952                2.343600   \n",
       "min             0.000000              0.000000                0.000000   \n",
       "25%             1.000000              0.000000                0.000000   \n",
       "50%             1.000000              0.000000                0.000000   \n",
       "75%             1.000000              0.000000                0.000000   \n",
       "max             8.000000            295.000000              161.000000   \n",
       "\n",
       "       Total.Minor.Injuries  Total.Uninjured          Year  \n",
       "count          18846.000000     20547.000000  21081.000000  \n",
       "mean               0.207949         7.229912   2013.572696  \n",
       "std                0.843311        33.761075      5.151531  \n",
       "min                0.000000         0.000000   2002.000000  \n",
       "25%                0.000000         0.000000   2009.000000  \n",
       "50%                0.000000         1.000000   2014.000000  \n",
       "75%                0.000000         2.000000   2018.000000  \n",
       "max               50.000000       576.000000   2022.000000  "
      ]
     },
     "execution_count": 13,
     "metadata": {},
     "output_type": "execute_result"
    }
   ],
   "source": [
    "df.dropna()\n",
    "df.describe()\n",
    "\n"
   ]
  },
  {
   "cell_type": "markdown",
   "metadata": {},
   "source": []
  },
  {
   "cell_type": "markdown",
   "metadata": {},
   "source": [
    "We want to group the aircraft into Private, Public, Goverment, and Unknown "
   ]
  },
  {
   "cell_type": "code",
   "execution_count": 14,
   "metadata": {},
   "outputs": [
    {
     "data": {
      "text/html": [
       "<div>\n",
       "<style scoped>\n",
       "    .dataframe tbody tr th:only-of-type {\n",
       "        vertical-align: middle;\n",
       "    }\n",
       "\n",
       "    .dataframe tbody tr th {\n",
       "        vertical-align: top;\n",
       "    }\n",
       "\n",
       "    .dataframe thead th {\n",
       "        text-align: right;\n",
       "    }\n",
       "</style>\n",
       "<table border=\"1\" class=\"dataframe\">\n",
       "  <thead>\n",
       "    <tr style=\"text-align: right;\">\n",
       "      <th></th>\n",
       "      <th>Number.of.Engines</th>\n",
       "      <th>Total.Fatal.Injuries</th>\n",
       "      <th>Total.Serious.Injuries</th>\n",
       "      <th>Total.Minor.Injuries</th>\n",
       "      <th>Total.Uninjured</th>\n",
       "      <th>Year</th>\n",
       "    </tr>\n",
       "    <tr>\n",
       "      <th>Purpose.of.flight</th>\n",
       "      <th></th>\n",
       "      <th></th>\n",
       "      <th></th>\n",
       "      <th></th>\n",
       "      <th></th>\n",
       "      <th></th>\n",
       "    </tr>\n",
       "  </thead>\n",
       "  <tbody>\n",
       "    <tr>\n",
       "      <th>ASHO</th>\n",
       "      <td>8.0</td>\n",
       "      <td>14.0</td>\n",
       "      <td>0.0</td>\n",
       "      <td>0.0</td>\n",
       "      <td>1.0</td>\n",
       "      <td>10110</td>\n",
       "    </tr>\n",
       "    <tr>\n",
       "      <th>Aerial Application</th>\n",
       "      <td>858.0</td>\n",
       "      <td>128.0</td>\n",
       "      <td>145.0</td>\n",
       "      <td>113.0</td>\n",
       "      <td>552.0</td>\n",
       "      <td>1861713</td>\n",
       "    </tr>\n",
       "    <tr>\n",
       "      <th>Aerial Observation</th>\n",
       "      <td>177.0</td>\n",
       "      <td>101.0</td>\n",
       "      <td>56.0</td>\n",
       "      <td>32.0</td>\n",
       "      <td>126.0</td>\n",
       "      <td>322268</td>\n",
       "    </tr>\n",
       "    <tr>\n",
       "      <th>Air Drop</th>\n",
       "      <td>3.0</td>\n",
       "      <td>0.0</td>\n",
       "      <td>2.0</td>\n",
       "      <td>0.0</td>\n",
       "      <td>3.0</td>\n",
       "      <td>6045</td>\n",
       "    </tr>\n",
       "    <tr>\n",
       "      <th>Air Race show</th>\n",
       "      <td>44.0</td>\n",
       "      <td>24.0</td>\n",
       "      <td>6.0</td>\n",
       "      <td>5.0</td>\n",
       "      <td>32.0</td>\n",
       "      <td>96632</td>\n",
       "    </tr>\n",
       "    <tr>\n",
       "      <th>Air Race/show</th>\n",
       "      <td>4.0</td>\n",
       "      <td>2.0</td>\n",
       "      <td>0.0</td>\n",
       "      <td>1.0</td>\n",
       "      <td>2.0</td>\n",
       "      <td>8019</td>\n",
       "    </tr>\n",
       "    <tr>\n",
       "      <th>Banner Tow</th>\n",
       "      <td>87.0</td>\n",
       "      <td>15.0</td>\n",
       "      <td>28.0</td>\n",
       "      <td>7.0</td>\n",
       "      <td>49.0</td>\n",
       "      <td>179106</td>\n",
       "    </tr>\n",
       "    <tr>\n",
       "      <th>Business</th>\n",
       "      <td>640.0</td>\n",
       "      <td>223.0</td>\n",
       "      <td>115.0</td>\n",
       "      <td>94.0</td>\n",
       "      <td>900.0</td>\n",
       "      <td>982676</td>\n",
       "    </tr>\n",
       "    <tr>\n",
       "      <th>Executive/corporate</th>\n",
       "      <td>182.0</td>\n",
       "      <td>82.0</td>\n",
       "      <td>48.0</td>\n",
       "      <td>16.0</td>\n",
       "      <td>376.0</td>\n",
       "      <td>201243</td>\n",
       "    </tr>\n",
       "    <tr>\n",
       "      <th>External Load</th>\n",
       "      <td>0.0</td>\n",
       "      <td>0.0</td>\n",
       "      <td>0.0</td>\n",
       "      <td>1.0</td>\n",
       "      <td>1.0</td>\n",
       "      <td>2007</td>\n",
       "    </tr>\n",
       "    <tr>\n",
       "      <th>Ferry</th>\n",
       "      <td>123.0</td>\n",
       "      <td>181.0</td>\n",
       "      <td>13.0</td>\n",
       "      <td>12.0</td>\n",
       "      <td>95.0</td>\n",
       "      <td>203298</td>\n",
       "    </tr>\n",
       "    <tr>\n",
       "      <th>Firefighting</th>\n",
       "      <td>27.0</td>\n",
       "      <td>13.0</td>\n",
       "      <td>0.0</td>\n",
       "      <td>3.0</td>\n",
       "      <td>12.0</td>\n",
       "      <td>34269</td>\n",
       "    </tr>\n",
       "    <tr>\n",
       "      <th>Flight Test</th>\n",
       "      <td>170.0</td>\n",
       "      <td>45.0</td>\n",
       "      <td>23.0</td>\n",
       "      <td>13.0</td>\n",
       "      <td>288.0</td>\n",
       "      <td>241680</td>\n",
       "    </tr>\n",
       "    <tr>\n",
       "      <th>Glider Tow</th>\n",
       "      <td>33.0</td>\n",
       "      <td>11.0</td>\n",
       "      <td>8.0</td>\n",
       "      <td>4.0</td>\n",
       "      <td>20.0</td>\n",
       "      <td>70479</td>\n",
       "    </tr>\n",
       "    <tr>\n",
       "      <th>Instructional</th>\n",
       "      <td>2871.0</td>\n",
       "      <td>445.0</td>\n",
       "      <td>477.0</td>\n",
       "      <td>352.0</td>\n",
       "      <td>3420.0</td>\n",
       "      <td>5510125</td>\n",
       "    </tr>\n",
       "    <tr>\n",
       "      <th>Other Work Use</th>\n",
       "      <td>173.0</td>\n",
       "      <td>73.0</td>\n",
       "      <td>56.0</td>\n",
       "      <td>48.0</td>\n",
       "      <td>231.0</td>\n",
       "      <td>301993</td>\n",
       "    </tr>\n",
       "    <tr>\n",
       "      <th>PUBS</th>\n",
       "      <td>3.0</td>\n",
       "      <td>0.0</td>\n",
       "      <td>0.0</td>\n",
       "      <td>1.0</td>\n",
       "      <td>3.0</td>\n",
       "      <td>6066</td>\n",
       "    </tr>\n",
       "    <tr>\n",
       "      <th>Personal</th>\n",
       "      <td>12124.0</td>\n",
       "      <td>3728.0</td>\n",
       "      <td>2587.0</td>\n",
       "      <td>2017.0</td>\n",
       "      <td>12804.0</td>\n",
       "      <td>23448823</td>\n",
       "    </tr>\n",
       "    <tr>\n",
       "      <th>Positioning</th>\n",
       "      <td>503.0</td>\n",
       "      <td>97.0</td>\n",
       "      <td>41.0</td>\n",
       "      <td>28.0</td>\n",
       "      <td>396.0</td>\n",
       "      <td>694302</td>\n",
       "    </tr>\n",
       "    <tr>\n",
       "      <th>Public Aircraft</th>\n",
       "      <td>42.0</td>\n",
       "      <td>33.0</td>\n",
       "      <td>7.0</td>\n",
       "      <td>6.0</td>\n",
       "      <td>40.0</td>\n",
       "      <td>68375</td>\n",
       "    </tr>\n",
       "    <tr>\n",
       "      <th>Public Aircraft - Federal</th>\n",
       "      <td>69.0</td>\n",
       "      <td>11.0</td>\n",
       "      <td>9.0</td>\n",
       "      <td>7.0</td>\n",
       "      <td>82.0</td>\n",
       "      <td>104711</td>\n",
       "    </tr>\n",
       "    <tr>\n",
       "      <th>Public Aircraft - Local</th>\n",
       "      <td>16.0</td>\n",
       "      <td>4.0</td>\n",
       "      <td>6.0</td>\n",
       "      <td>1.0</td>\n",
       "      <td>11.0</td>\n",
       "      <td>24170</td>\n",
       "    </tr>\n",
       "    <tr>\n",
       "      <th>Public Aircraft - State</th>\n",
       "      <td>27.0</td>\n",
       "      <td>2.0</td>\n",
       "      <td>6.0</td>\n",
       "      <td>10.0</td>\n",
       "      <td>25.0</td>\n",
       "      <td>48280</td>\n",
       "    </tr>\n",
       "    <tr>\n",
       "      <th>Skydiving</th>\n",
       "      <td>140.0</td>\n",
       "      <td>44.0</td>\n",
       "      <td>56.0</td>\n",
       "      <td>28.0</td>\n",
       "      <td>398.0</td>\n",
       "      <td>245546</td>\n",
       "    </tr>\n",
       "    <tr>\n",
       "      <th>Unknown</th>\n",
       "      <td>183.0</td>\n",
       "      <td>349.0</td>\n",
       "      <td>43.0</td>\n",
       "      <td>59.0</td>\n",
       "      <td>401.0</td>\n",
       "      <td>466886</td>\n",
       "    </tr>\n",
       "  </tbody>\n",
       "</table>\n",
       "</div>"
      ],
      "text/plain": [
       "                           Number.of.Engines  Total.Fatal.Injuries  \\\n",
       "Purpose.of.flight                                                    \n",
       "ASHO                                     8.0                  14.0   \n",
       "Aerial Application                     858.0                 128.0   \n",
       "Aerial Observation                     177.0                 101.0   \n",
       "Air Drop                                 3.0                   0.0   \n",
       "Air Race show                           44.0                  24.0   \n",
       "Air Race/show                            4.0                   2.0   \n",
       "Banner Tow                              87.0                  15.0   \n",
       "Business                               640.0                 223.0   \n",
       "Executive/corporate                    182.0                  82.0   \n",
       "External Load                            0.0                   0.0   \n",
       "Ferry                                  123.0                 181.0   \n",
       "Firefighting                            27.0                  13.0   \n",
       "Flight Test                            170.0                  45.0   \n",
       "Glider Tow                              33.0                  11.0   \n",
       "Instructional                         2871.0                 445.0   \n",
       "Other Work Use                         173.0                  73.0   \n",
       "PUBS                                     3.0                   0.0   \n",
       "Personal                             12124.0                3728.0   \n",
       "Positioning                            503.0                  97.0   \n",
       "Public Aircraft                         42.0                  33.0   \n",
       "Public Aircraft - Federal               69.0                  11.0   \n",
       "Public Aircraft - Local                 16.0                   4.0   \n",
       "Public Aircraft - State                 27.0                   2.0   \n",
       "Skydiving                              140.0                  44.0   \n",
       "Unknown                                183.0                 349.0   \n",
       "\n",
       "                           Total.Serious.Injuries  Total.Minor.Injuries  \\\n",
       "Purpose.of.flight                                                         \n",
       "ASHO                                          0.0                   0.0   \n",
       "Aerial Application                          145.0                 113.0   \n",
       "Aerial Observation                           56.0                  32.0   \n",
       "Air Drop                                      2.0                   0.0   \n",
       "Air Race show                                 6.0                   5.0   \n",
       "Air Race/show                                 0.0                   1.0   \n",
       "Banner Tow                                   28.0                   7.0   \n",
       "Business                                    115.0                  94.0   \n",
       "Executive/corporate                          48.0                  16.0   \n",
       "External Load                                 0.0                   1.0   \n",
       "Ferry                                        13.0                  12.0   \n",
       "Firefighting                                  0.0                   3.0   \n",
       "Flight Test                                  23.0                  13.0   \n",
       "Glider Tow                                    8.0                   4.0   \n",
       "Instructional                               477.0                 352.0   \n",
       "Other Work Use                               56.0                  48.0   \n",
       "PUBS                                          0.0                   1.0   \n",
       "Personal                                   2587.0                2017.0   \n",
       "Positioning                                  41.0                  28.0   \n",
       "Public Aircraft                               7.0                   6.0   \n",
       "Public Aircraft - Federal                     9.0                   7.0   \n",
       "Public Aircraft - Local                       6.0                   1.0   \n",
       "Public Aircraft - State                       6.0                  10.0   \n",
       "Skydiving                                    56.0                  28.0   \n",
       "Unknown                                      43.0                  59.0   \n",
       "\n",
       "                           Total.Uninjured      Year  \n",
       "Purpose.of.flight                                     \n",
       "ASHO                                   1.0     10110  \n",
       "Aerial Application                   552.0   1861713  \n",
       "Aerial Observation                   126.0    322268  \n",
       "Air Drop                               3.0      6045  \n",
       "Air Race show                         32.0     96632  \n",
       "Air Race/show                          2.0      8019  \n",
       "Banner Tow                            49.0    179106  \n",
       "Business                             900.0    982676  \n",
       "Executive/corporate                  376.0    201243  \n",
       "External Load                          1.0      2007  \n",
       "Ferry                                 95.0    203298  \n",
       "Firefighting                          12.0     34269  \n",
       "Flight Test                          288.0    241680  \n",
       "Glider Tow                            20.0     70479  \n",
       "Instructional                       3420.0   5510125  \n",
       "Other Work Use                       231.0    301993  \n",
       "PUBS                                   3.0      6066  \n",
       "Personal                           12804.0  23448823  \n",
       "Positioning                          396.0    694302  \n",
       "Public Aircraft                       40.0     68375  \n",
       "Public Aircraft - Federal             82.0    104711  \n",
       "Public Aircraft - Local               11.0     24170  \n",
       "Public Aircraft - State               25.0     48280  \n",
       "Skydiving                            398.0    245546  \n",
       "Unknown                              401.0    466886  "
      ]
     },
     "execution_count": 14,
     "metadata": {},
     "output_type": "execute_result"
    }
   ],
   "source": [
    "df.groupby('Purpose.of.flight').sum()"
   ]
  },
  {
   "cell_type": "code",
   "execution_count": 15,
   "metadata": {},
   "outputs": [],
   "source": [
    "\n",
    "\n",
    "def categorize_flight(flight_type):\n",
    "   \n",
    "    if flight_type in ['Banner Tow',' Business'\t, 'Executive/corporate','Ferry', 'Other Work Use', 'Positioning']:\n",
    "        return 'Commercial'\n",
    "    elif flight_type in ['Air Race show', 'Air Race/show', 'Glider Tow', 'Instructional', 'Personal', 'Skydiving']:\n",
    "        return 'Private'\n",
    "    elif flight_type in ['Aerial Observation', 'Air Drop', 'Firefighting', 'Public Aircraft', 'Public Aircraft - Federal', 'Public Aircraft - Local', 'Public Aircraft - State']:\n",
    "        return 'Government'\n",
    "    else:\n",
    "        return 'Unknown'\n"
   ]
  },
  {
   "cell_type": "markdown",
   "metadata": {},
   "source": [
    "We defined our dictionary and we will create a new column with our flight types sorted into smaller categories.\n"
   ]
  },
  {
   "cell_type": "code",
   "execution_count": 16,
   "metadata": {},
   "outputs": [],
   "source": [
    "df['flight_category'] = df['Purpose.of.flight'].map(categorize_flight)\n"
   ]
  },
  {
   "cell_type": "markdown",
   "metadata": {},
   "source": [
    "We also catergorized injury severity into fewer columns."
   ]
  },
  {
   "cell_type": "code",
   "execution_count": 17,
   "metadata": {},
   "outputs": [],
   "source": [
    "def categorize_injury(injury_type):\n",
    "    level = str(injury_type)\n",
    "    if 'Non-Fatal' in level:\n",
    "        return 'Non-Fatal'\n",
    "    elif 'Fatal' in level:\n",
    "        return 'Fatal'\n",
    "    elif 'Minor' == level:\n",
    "        return 'Minor'\n",
    "    elif 'Serious' == level:\n",
    "        return 'Serious'\n",
    "    else:\n",
    "        return 'Unavailable'\n",
    "    \n",
    "df['Injury_category'] = df['Injury.Severity'].map(categorize_injury)\n"
   ]
  },
  {
   "cell_type": "code",
   "execution_count": 18,
   "metadata": {},
   "outputs": [],
   "source": [
    "#export to CSV for tableau \n",
    "df.to_csv('data/clean.csv')"
   ]
  },
  {
   "cell_type": "markdown",
   "metadata": {},
   "source": [
    "We noticed that 'Make' still needs some cleaning. Some Makes have different capitalization and abbreviations i.e. Airbus, Airbus Corp., Airbus Coropation"
   ]
  },
  {
   "cell_type": "code",
   "execution_count": 26,
   "metadata": {},
   "outputs": [],
   "source": [
    "def categorize_make(make):\n",
    "    if type(make)!= str:\n",
    "        return make\n",
    "    make = make.upper()\n",
    "    if '.' in make:\n",
    "        make.replace('.', '')\n",
    "    if ',' in make:\n",
    "        make.replace(',', '')\n",
    "    if 'CO' in make:\n",
    "        make.replace('CO', '')\n",
    "    if 'LTD' in make:\n",
    "        make.replace('LTD', '')\n",
    "    if 'CORPORATION' in make:\n",
    "        make.replace('CORPORATION', '')\n",
    "    if 'CORP' in make:\n",
    "        make.replace('CORP', '')\n",
    "    if 'AIRCRAFT' in make:\n",
    "        make.replace('AIRCRAFT', '')\n",
    "    if 'DESIGN' in make:\n",
    "        make.replace('DESIGN', '')\n",
    "    if 'COMPANY' in make:\n",
    "        make.replace('COMPANY', '')\n",
    "    if 'INDUSTRIES' in make:\n",
    "        make.replace('INDUSTRIES', '')\n",
    "    if 'AEROSPACE' in make:\n",
    "        make.replace('AEROSPACE', '')\n",
    "    if 'INC' in make:\n",
    "        make.replace('.INC', '')\n",
    "    if 'SA' in make:\n",
    "        make.replace('SA', '')\n",
    "        \n",
    "    return make"
   ]
  },
  {
   "cell_type": "code",
   "execution_count": 27,
   "metadata": {},
   "outputs": [],
   "source": [
    "df['Makes_Standardized'] = df['Make'].map(categorize_make)"
   ]
  },
  {
   "cell_type": "markdown",
   "metadata": {},
   "source": [
    "## Feature Engineering"
   ]
  },
  {
   "cell_type": "markdown",
   "metadata": {},
   "source": [
    "Words"
   ]
  },
  {
   "cell_type": "code",
   "execution_count": null,
   "metadata": {},
   "outputs": [],
   "source": [
    "\n",
    "#how deadly flights are"
   ]
  },
  {
   "cell_type": "markdown",
   "metadata": {},
   "source": [
    "## Analysis"
   ]
  },
  {
   "cell_type": "markdown",
   "metadata": {},
   "source": [
    "Words and Figures"
   ]
  },
  {
   "cell_type": "code",
   "execution_count": 28,
   "metadata": {},
   "outputs": [
    {
     "name": "stdout",
     "output_type": "stream",
     "text": [
      "CESSNA                       237\n",
      "PIPER                        137\n",
      "BEECH                         56\n",
      "AIR TRACTOR INC               15\n",
      "RAYTHEON AIRCRAFT COMPANY     14\n",
      "DEHAVILLAND                   13\n",
      "BELLANCA                      11\n",
      "BOEING                        10\n",
      "EMBRAER                       10\n",
      "AERO COMMANDER                10\n",
      "Name: Makes_Standardized, dtype: int64\n"
     ]
    },
    {
     "data": {
      "image/png": "[encoded data removed]",
      "text/plain": [
       "<Figure size 432x288 with 1 Axes>"
      ]
     },
     "metadata": {
      "needs_background": "light"
     },
     "output_type": "display_data"
    }
   ],
   "source": [
    "#accidents per year\n",
    "fig, ax = plt.subplots()\n",
    "\n",
    "commercial_flights_df = df[(df['flight_category'] == \"Commercial\")]\n",
    "\n",
    "accidents_per_model_commercial = commercial_flights_df['Makes_Standardized'].value_counts()[:10]\n",
    "\n",
    "x = accidents_per_model_commercial.index\n",
    "y = accidents_per_model_commercial.values\n",
    "\n",
    "ax.bar(x, y)\n",
    "\n",
    "print(accidents_per_model_commercial)\n",
    "\n"
   ]
  },
  {
   "cell_type": "code",
   "execution_count": 29,
   "metadata": {},
   "outputs": [
    {
     "name": "stdout",
     "output_type": "stream",
     "text": [
      "CESSNA                5558\n",
      "PIPER                 3254\n",
      "BEECH                 1085\n",
      "MOONEY                 323\n",
      "MAULE                  199\n",
      "BELLANCA               198\n",
      "AERONCA                197\n",
      "CIRRUS DESIGN CORP     189\n",
      "CHAMPION               145\n",
      "LUSCOMBE               140\n",
      "Name: Makes_Standardized, dtype: int64\n"
     ]
    },
    {
     "data": {
      "image/png": "[encoded data removed]",
      "text/plain": [
       "<Figure size 432x288 with 1 Axes>"
      ]
     },
     "metadata": {
      "needs_background": "light"
     },
     "output_type": "display_data"
    }
   ],
   "source": [
    "#accidents per year\n",
    "fig, ax = plt.subplots()\n",
    "\n",
    "personal_flights_df = df[(df['flight_category'] == \"Private\")]\n",
    "\n",
    "accidents_per_model_personal = personal_flights_df['Makes_Standardized'].value_counts()[:10]\n",
    "\n",
    "x = accidents_per_model_personal.index\n",
    "y = accidents_per_model_personal.values\n",
    "\n",
    "ax.bar(x, y)\n",
    "\n",
    "print(accidents_per_model_personal)\n"
   ]
  },
  {
   "cell_type": "markdown",
   "metadata": {},
   "source": [
    "## Conclusions"
   ]
  },
  {
   "cell_type": "markdown",
   "metadata": {},
   "source": [
    "We dont need a separate report for commercial and private. We just need to examine each brand by how many fatalities and injuries they are having on average as well as damage sustained to the planes. \n",
    "\n",
    "We will also look into engines and see if the number of engines and engine type has anthing to do with injury severity. "
   ]
  },
  {
   "cell_type": "markdown",
   "metadata": {},
   "source": [
    "## Next Steps"
   ]
  },
  {
   "cell_type": "markdown",
   "metadata": {},
   "source": [
    "Conclusion "
   ]
  }
 ],
 "metadata": {
  "kernelspec": {
   "display_name": "Python 3",
   "language": "python",
   "name": "python3"
  },
  "language_info": {
   "codemirror_mode": {
    "name": "ipython",
    "version": 3
   },
   "file_extension": ".py",
   "mimetype": "text/x-python",
   "name": "python",
   "nbconvert_exporter": "python",
   "pygments_lexer": "ipython3",
   "version": "3.8.5"
  }
 },
 "nbformat": 4,
 "nbformat_minor": 2
}
